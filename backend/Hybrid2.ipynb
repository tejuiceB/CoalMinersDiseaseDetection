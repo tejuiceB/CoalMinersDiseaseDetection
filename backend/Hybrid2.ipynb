{
 "cells": [
  {
   "cell_type": "markdown",
   "metadata": {},
   "source": [
    "# Coal Mining Disease Prediction Model\n",
    "This notebook implements a hybrid machine learning model for predicting disease risks in coal mining environments."
   ]
  },
  {
   "cell_type": "code",
   "execution_count": 1,
   "metadata": {},
   "outputs": [],
   "source": [
    "# Re-train models with current scikit-learn version\n",
    "import os\n",
    "import joblib\n",
    "import sklearn\n",
    "\n",
    "# Create models directory if it doesn't exist\n",
    "os.makedirs('models', exist_ok=True)"
   ]
  },
  {
   "cell_type": "code",
   "execution_count": 2,
   "metadata": {
    "colab": {
     "base_uri": "https://localhost:8080/",
     "height": 1000
    },
    "executionInfo": {
     "elapsed": 68763,
     "status": "error",
     "timestamp": 1741418631560,
     "user": {
      "displayName": "Kartik Bande",
      "userId": "13882489551913198085"
     },
     "user_tz": -330
    },
    "id": "t5soy5W9l9md",
    "outputId": "7bd40e59-8e79-4f01-f114-fccb7dfbbc2f"
   },
   "outputs": [],
   "source": [
    "# ===================== Imports =====================\n",
    "import pandas as pd\n",
    "import numpy as np\n",
    "import matplotlib.pyplot as plt\n",
    "import seaborn as sns\n",
    "\n",
    "from sklearn.model_selection import train_test_split, cross_val_score, RandomizedSearchCV\n",
    "from sklearn.ensemble import RandomForestClassifier, VotingClassifier\n",
    "from xgboost import XGBClassifier\n",
    "from sklearn.preprocessing import LabelEncoder\n",
    "from sklearn.metrics import accuracy_score, confusion_matrix, precision_score, recall_score, f1_score"
   ]
  },
  {
   "cell_type": "code",
   "execution_count": 3,
   "metadata": {},
   "outputs": [
    {
     "name": "stdout",
     "output_type": "stream",
     "text": [
      "Columns in the dataset:\n",
      "Index(['Age', 'Years_in_Mining', 'Smoking_History', 'PPE_Usage',\n",
      "       'Cough_Frequency', 'Breathlessness', 'Chest_Pain',\n",
      "       'Oxygen_Saturation (%)', 'Heart_Rate (BPM)', 'Body_Temperature (°F)',\n",
      "       'Respiratory_Rate (breaths/min)', 'Lung_Function_Test (FEV1/FVC Ratio)',\n",
      "       'Medication_Use', 'Air_Quality_Index (AQI)', 'PM2.5_Level (µg/m³)',\n",
      "       'CO_Level (ppm)', 'Temperature (°C)', 'Disease_Name', 'Risk_Level',\n",
      "       'Recommended_Precautionary_Measures'],\n",
      "      dtype='object')\n"
     ]
    }
   ],
   "source": [
    "# ===================== Data Loading and Preprocessing =====================\n",
    "# Load the dataset (ensure the CSV file is in your working directory)\n",
    "data = pd.read_csv(\"coal_mining_disease_dataset.csv\")\n",
    "print(\"Columns in the dataset:\")\n",
    "print(data.columns)\n",
    "\n",
    "# Convert 'Body_Temperature (°F)' to 'Body_Temperature (°C)' and drop the Fahrenheit column\n",
    "data['Body_Temperature (°C)'] = (data['Body_Temperature (°F)'] - 32) * 5/9\n",
    "data['Body_Temperature (°C)'] = data['Body_Temperature (°C)'].round(1)\n",
    "data.drop('Body_Temperature (°F)', axis=1, inplace=True)\n",
    "\n",
    "# ===================== Define Columns =====================\n",
    "target_column = 'Risk_Level'  # Ensure this exactly matches the column name in your CSV\n",
    "treatment_column = 'Recommended_Precautionary_Measures'\n",
    "feature_columns = [\n",
    "    'Age', 'Years_in_Mining', 'Smoking_History', 'Cough_Frequency',\n",
    "    'Breathlessness', 'Chest_Pain', 'Oxygen_Saturation (%)',\n",
    "    'Heart_Rate (BPM)', 'Body_Temperature (°C)',\n",
    "    'Air_Quality_Index (AQI)', 'PM2.5_Level (µg/m³)', 'CO_Level (ppm)',\n",
    "    'Temperature (°C)', 'PPE_Usage', 'Medication_Use'\n",
    "]\n",
    "\n",
    "# ===================== Data Cleaning =====================\n",
    "data.dropna(inplace=True)\n",
    "\n",
    "# ===================== Label Encoding =====================\n",
    "cols_to_encode = ['Smoking_History', 'PPE_Usage', 'Medication_Use',\n",
    "                  'Cough_Frequency', 'Breathlessness', 'Chest_Pain', target_column]\n",
    "label_encoder = LabelEncoder()\n",
    "for col in cols_to_encode:\n",
    "    data[col] = label_encoder.fit_transform(data[col])\n",
    "\n",
    "# ===================== Create Disease Mapping (if available) =====================\n",
    "if \"Disease_Name\" in data.columns:\n",
    "    disease_mapping = {}\n",
    "    for encoded_val in data[target_column].unique():\n",
    "        disease_mapping[encoded_val] = data.loc[data[target_column] == encoded_val, \"Disease_Name\"].iloc[0]\n",
    "else:\n",
    "    disease_mapping = None\n",
    "\n",
    "# ===================== Define Features, Target & Treatment Data =====================\n",
    "X = data[feature_columns]\n",
    "y = data[target_column]\n",
    "treatment_data = data[[target_column, treatment_column]]"
   ]
  },
  {
   "cell_type": "code",
   "execution_count": 4,
   "metadata": {},
   "outputs": [
    {
     "name": "stdout",
     "output_type": "stream",
     "text": [
      "Using test_size = 0.1 based on cross-validation.\n",
      "Fitting 5 folds for each of 10 candidates, totalling 50 fits\n",
      "Best RF Parameters: {'min_samples_split': 2, 'min_samples_leaf': 1, 'max_features': 'sqrt', 'max_depth': None}\n",
      "Fitting 5 folds for each of 10 candidates, totalling 50 fits\n",
      "Best RF Parameters: {'min_samples_split': 2, 'min_samples_leaf': 1, 'max_features': 'sqrt', 'max_depth': None}\n",
      "Fitting 5 folds for each of 10 candidates, totalling 50 fits\n"
     ]
    },
    {
     "name": "stderr",
     "output_type": "stream",
     "text": [
      "c:\\Users\\Tejas\\AppData\\Local\\Programs\\Python\\Python310\\lib\\site-packages\\xgboost\\sklearn.py:1395: UserWarning: `use_label_encoder` is deprecated in 1.7.0.\n",
      "  warnings.warn(\"`use_label_encoder` is deprecated in 1.7.0.\")\n",
      "c:\\Users\\Tejas\\AppData\\Local\\Programs\\Python\\Python310\\lib\\site-packages\\xgboost\\sklearn.py:1395: UserWarning: `use_label_encoder` is deprecated in 1.7.0.\n",
      "  warnings.warn(\"`use_label_encoder` is deprecated in 1.7.0.\")\n",
      "c:\\Users\\Tejas\\AppData\\Local\\Programs\\Python\\Python310\\lib\\site-packages\\xgboost\\sklearn.py:1395: UserWarning: `use_label_encoder` is deprecated in 1.7.0.\n",
      "  warnings.warn(\"`use_label_encoder` is deprecated in 1.7.0.\")\n"
     ]
    },
    {
     "name": "stdout",
     "output_type": "stream",
     "text": [
      "Best XGB Parameters: {'reg_lambda': 5, 'max_depth': 7, 'learning_rate': 0.1, 'gamma': 5}\n"
     ]
    },
    {
     "name": "stderr",
     "output_type": "stream",
     "text": [
      "c:\\Users\\Tejas\\AppData\\Local\\Programs\\Python\\Python310\\lib\\site-packages\\xgboost\\sklearn.py:1395: UserWarning: `use_label_encoder` is deprecated in 1.7.0.\n",
      "  warnings.warn(\"`use_label_encoder` is deprecated in 1.7.0.\")\n"
     ]
    },
    {
     "data": {
      "text/html": [
       "<style>#sk-container-id-1 {color: black;}#sk-container-id-1 pre{padding: 0;}#sk-container-id-1 div.sk-toggleable {background-color: white;}#sk-container-id-1 label.sk-toggleable__label {cursor: pointer;display: block;width: 100%;margin-bottom: 0;padding: 0.3em;box-sizing: border-box;text-align: center;}#sk-container-id-1 label.sk-toggleable__label-arrow:before {content: \"▸\";float: left;margin-right: 0.25em;color: #696969;}#sk-container-id-1 label.sk-toggleable__label-arrow:hover:before {color: black;}#sk-container-id-1 div.sk-estimator:hover label.sk-toggleable__label-arrow:before {color: black;}#sk-container-id-1 div.sk-toggleable__content {max-height: 0;max-width: 0;overflow: hidden;text-align: left;background-color: #f0f8ff;}#sk-container-id-1 div.sk-toggleable__content pre {margin: 0.2em;color: black;border-radius: 0.25em;background-color: #f0f8ff;}#sk-container-id-1 input.sk-toggleable__control:checked~div.sk-toggleable__content {max-height: 200px;max-width: 100%;overflow: auto;}#sk-container-id-1 input.sk-toggleable__control:checked~label.sk-toggleable__label-arrow:before {content: \"▾\";}#sk-container-id-1 div.sk-estimator input.sk-toggleable__control:checked~label.sk-toggleable__label {background-color: #d4ebff;}#sk-container-id-1 div.sk-label input.sk-toggleable__control:checked~label.sk-toggleable__label {background-color: #d4ebff;}#sk-container-id-1 input.sk-hidden--visually {border: 0;clip: rect(1px 1px 1px 1px);clip: rect(1px, 1px, 1px, 1px);height: 1px;margin: -1px;overflow: hidden;padding: 0;position: absolute;width: 1px;}#sk-container-id-1 div.sk-estimator {font-family: monospace;background-color: #f0f8ff;border: 1px dotted black;border-radius: 0.25em;box-sizing: border-box;margin-bottom: 0.5em;}#sk-container-id-1 div.sk-estimator:hover {background-color: #d4ebff;}#sk-container-id-1 div.sk-parallel-item::after {content: \"\";width: 100%;border-bottom: 1px solid gray;flex-grow: 1;}#sk-container-id-1 div.sk-label:hover label.sk-toggleable__label {background-color: #d4ebff;}#sk-container-id-1 div.sk-serial::before {content: \"\";position: absolute;border-left: 1px solid gray;box-sizing: border-box;top: 0;bottom: 0;left: 50%;z-index: 0;}#sk-container-id-1 div.sk-serial {display: flex;flex-direction: column;align-items: center;background-color: white;padding-right: 0.2em;padding-left: 0.2em;position: relative;}#sk-container-id-1 div.sk-item {position: relative;z-index: 1;}#sk-container-id-1 div.sk-parallel {display: flex;align-items: stretch;justify-content: center;background-color: white;position: relative;}#sk-container-id-1 div.sk-item::before, #sk-container-id-1 div.sk-parallel-item::before {content: \"\";position: absolute;border-left: 1px solid gray;box-sizing: border-box;top: 0;bottom: 0;left: 50%;z-index: -1;}#sk-container-id-1 div.sk-parallel-item {display: flex;flex-direction: column;z-index: 1;position: relative;background-color: white;}#sk-container-id-1 div.sk-parallel-item:first-child::after {align-self: flex-end;width: 50%;}#sk-container-id-1 div.sk-parallel-item:last-child::after {align-self: flex-start;width: 50%;}#sk-container-id-1 div.sk-parallel-item:only-child::after {width: 0;}#sk-container-id-1 div.sk-dashed-wrapped {border: 1px dashed gray;margin: 0 0.4em 0.5em 0.4em;box-sizing: border-box;padding-bottom: 0.4em;background-color: white;}#sk-container-id-1 div.sk-label label {font-family: monospace;font-weight: bold;display: inline-block;line-height: 1.2em;}#sk-container-id-1 div.sk-label-container {text-align: center;}#sk-container-id-1 div.sk-container {/* jupyter's `normalize.less` sets `[hidden] { display: none; }` but bootstrap.min.css set `[hidden] { display: none !important; }` so we also need the `!important` here to be able to override the default hidden behavior on the sphinx rendered scikit-learn.org. See: https://github.com/scikit-learn/scikit-learn/issues/21755 */display: inline-block !important;position: relative;}#sk-container-id-1 div.sk-text-repr-fallback {display: none;}</style><div id=\"sk-container-id-1\" class=\"sk-top-container\"><div class=\"sk-text-repr-fallback\"><pre>VotingClassifier(estimators=[(&#x27;rf&#x27;,\n",
       "                              RandomForestClassifier(n_estimators=200,\n",
       "                                                     random_state=42)),\n",
       "                             (&#x27;xgb&#x27;,\n",
       "                              XGBClassifier(base_score=None, booster=None,\n",
       "                                            callbacks=None,\n",
       "                                            colsample_bylevel=None,\n",
       "                                            colsample_bynode=None,\n",
       "                                            colsample_bytree=None,\n",
       "                                            early_stopping_rounds=None,\n",
       "                                            enable_categorical=False,\n",
       "                                            eval_metric=&#x27;mlogloss&#x27;,\n",
       "                                            feature_types=None, gamma=5,\n",
       "                                            gpu_id=None, grow_policy...\n",
       "                                            importance_type=None,\n",
       "                                            interaction_constraints=None,\n",
       "                                            learning_rate=0.1, max_bin=None,\n",
       "                                            max_cat_threshold=None,\n",
       "                                            max_cat_to_onehot=None,\n",
       "                                            max_delta_step=None, max_depth=7,\n",
       "                                            max_leaves=None,\n",
       "                                            min_child_weight=None, missing=nan,\n",
       "                                            monotone_constraints=None,\n",
       "                                            n_estimators=200, n_jobs=None,\n",
       "                                            num_parallel_tree=None,\n",
       "                                            objective=&#x27;multi:softprob&#x27;,\n",
       "                                            predictor=None, ...))],\n",
       "                 voting=&#x27;soft&#x27;)</pre><b>In a Jupyter environment, please rerun this cell to show the HTML representation or trust the notebook. <br />On GitHub, the HTML representation is unable to render, please try loading this page with nbviewer.org.</b></div><div class=\"sk-container\" hidden><div class=\"sk-item sk-dashed-wrapped\"><div class=\"sk-label-container\"><div class=\"sk-label sk-toggleable\"><input class=\"sk-toggleable__control sk-hidden--visually\" id=\"sk-estimator-id-1\" type=\"checkbox\" ><label for=\"sk-estimator-id-1\" class=\"sk-toggleable__label sk-toggleable__label-arrow\">VotingClassifier</label><div class=\"sk-toggleable__content\"><pre>VotingClassifier(estimators=[(&#x27;rf&#x27;,\n",
       "                              RandomForestClassifier(n_estimators=200,\n",
       "                                                     random_state=42)),\n",
       "                             (&#x27;xgb&#x27;,\n",
       "                              XGBClassifier(base_score=None, booster=None,\n",
       "                                            callbacks=None,\n",
       "                                            colsample_bylevel=None,\n",
       "                                            colsample_bynode=None,\n",
       "                                            colsample_bytree=None,\n",
       "                                            early_stopping_rounds=None,\n",
       "                                            enable_categorical=False,\n",
       "                                            eval_metric=&#x27;mlogloss&#x27;,\n",
       "                                            feature_types=None, gamma=5,\n",
       "                                            gpu_id=None, grow_policy...\n",
       "                                            importance_type=None,\n",
       "                                            interaction_constraints=None,\n",
       "                                            learning_rate=0.1, max_bin=None,\n",
       "                                            max_cat_threshold=None,\n",
       "                                            max_cat_to_onehot=None,\n",
       "                                            max_delta_step=None, max_depth=7,\n",
       "                                            max_leaves=None,\n",
       "                                            min_child_weight=None, missing=nan,\n",
       "                                            monotone_constraints=None,\n",
       "                                            n_estimators=200, n_jobs=None,\n",
       "                                            num_parallel_tree=None,\n",
       "                                            objective=&#x27;multi:softprob&#x27;,\n",
       "                                            predictor=None, ...))],\n",
       "                 voting=&#x27;soft&#x27;)</pre></div></div></div><div class=\"sk-parallel\"><div class=\"sk-parallel-item\"><div class=\"sk-item\"><div class=\"sk-label-container\"><div class=\"sk-label sk-toggleable\"><label>rf</label></div></div><div class=\"sk-serial\"><div class=\"sk-item\"><div class=\"sk-estimator sk-toggleable\"><input class=\"sk-toggleable__control sk-hidden--visually\" id=\"sk-estimator-id-2\" type=\"checkbox\" ><label for=\"sk-estimator-id-2\" class=\"sk-toggleable__label sk-toggleable__label-arrow\">RandomForestClassifier</label><div class=\"sk-toggleable__content\"><pre>RandomForestClassifier(n_estimators=200, random_state=42)</pre></div></div></div></div></div></div><div class=\"sk-parallel-item\"><div class=\"sk-item\"><div class=\"sk-label-container\"><div class=\"sk-label sk-toggleable\"><label>xgb</label></div></div><div class=\"sk-serial\"><div class=\"sk-item\"><div class=\"sk-estimator sk-toggleable\"><input class=\"sk-toggleable__control sk-hidden--visually\" id=\"sk-estimator-id-3\" type=\"checkbox\" ><label for=\"sk-estimator-id-3\" class=\"sk-toggleable__label sk-toggleable__label-arrow\">XGBClassifier</label><div class=\"sk-toggleable__content\"><pre>XGBClassifier(base_score=None, booster=None, callbacks=None,\n",
       "              colsample_bylevel=None, colsample_bynode=None,\n",
       "              colsample_bytree=None, early_stopping_rounds=None,\n",
       "              enable_categorical=False, eval_metric=&#x27;mlogloss&#x27;,\n",
       "              feature_types=None, gamma=5, gpu_id=None, grow_policy=None,\n",
       "              importance_type=None, interaction_constraints=None,\n",
       "              learning_rate=0.1, max_bin=None, max_cat_threshold=None,\n",
       "              max_cat_to_onehot=None, max_delta_step=None, max_depth=7,\n",
       "              max_leaves=None, min_child_weight=None, missing=nan,\n",
       "              monotone_constraints=None, n_estimators=200, n_jobs=None,\n",
       "              num_parallel_tree=None, objective=&#x27;multi:softprob&#x27;,\n",
       "              predictor=None, ...)</pre></div></div></div></div></div></div></div></div></div></div>"
      ],
      "text/plain": [
       "VotingClassifier(estimators=[('rf',\n",
       "                              RandomForestClassifier(n_estimators=200,\n",
       "                                                     random_state=42)),\n",
       "                             ('xgb',\n",
       "                              XGBClassifier(base_score=None, booster=None,\n",
       "                                            callbacks=None,\n",
       "                                            colsample_bylevel=None,\n",
       "                                            colsample_bynode=None,\n",
       "                                            colsample_bytree=None,\n",
       "                                            early_stopping_rounds=None,\n",
       "                                            enable_categorical=False,\n",
       "                                            eval_metric='mlogloss',\n",
       "                                            feature_types=None, gamma=5,\n",
       "                                            gpu_id=None, grow_policy...\n",
       "                                            importance_type=None,\n",
       "                                            interaction_constraints=None,\n",
       "                                            learning_rate=0.1, max_bin=None,\n",
       "                                            max_cat_threshold=None,\n",
       "                                            max_cat_to_onehot=None,\n",
       "                                            max_delta_step=None, max_depth=7,\n",
       "                                            max_leaves=None,\n",
       "                                            min_child_weight=None, missing=nan,\n",
       "                                            monotone_constraints=None,\n",
       "                                            n_estimators=200, n_jobs=None,\n",
       "                                            num_parallel_tree=None,\n",
       "                                            objective='multi:softprob',\n",
       "                                            predictor=None, ...))],\n",
       "                 voting='soft')"
      ]
     },
     "execution_count": 4,
     "metadata": {},
     "output_type": "execute_result"
    }
   ],
   "source": [
    "# ===================== Model Training =====================\n",
    "# Determine Train-Test Split via Cross-Validation\n",
    "best_split = 0.2  # Default value\n",
    "best_accuracy = 0\n",
    "for split in [0.1, 0.2, 0.3]:\n",
    "    X_train_temp, X_test_temp, y_train_temp, y_test_temp = train_test_split(\n",
    "        X, y, test_size=split, random_state=42\n",
    "    )\n",
    "    model = RandomForestClassifier(n_estimators=100, random_state=42)\n",
    "    scores = cross_val_score(model, X_train_temp, y_train_temp, cv=5)\n",
    "    avg_accuracy = scores.mean()\n",
    "    if avg_accuracy > best_accuracy:\n",
    "        best_accuracy = avg_accuracy\n",
    "        best_split = split\n",
    "print(f\"Using test_size = {best_split} based on cross-validation.\")\n",
    "\n",
    "X_train, X_test, y_train, y_test = train_test_split(\n",
    "    X, y, test_size=best_split, random_state=42\n",
    ")\n",
    "\n",
    "# Hyperparameter Tuning with RandomizedSearchCV\n",
    "# ---- RandomForest Tuning ----\n",
    "rf_param_dist = {\n",
    "    'max_depth': [None, 5, 10],\n",
    "    'min_samples_split': [2, 5],\n",
    "    'min_samples_leaf': [1, 2],\n",
    "    'max_features': ['sqrt', 'log2']\n",
    "}\n",
    "\n",
    "rf_random = RandomizedSearchCV(\n",
    "    RandomForestClassifier(n_estimators=200, random_state=42),\n",
    "    param_distributions=rf_param_dist,\n",
    "    n_iter=10, cv=5,\n",
    "    scoring='accuracy', n_jobs=-1, random_state=42, verbose=1\n",
    ")\n",
    "rf_random.fit(X_train, y_train)\n",
    "print(\"Best RF Parameters:\", rf_random.best_params_)\n",
    "\n",
    "# ---- XGBoost Tuning ----\n",
    "# Create an XGBClassifier instance.\n",
    "xgb_model = XGBClassifier(n_estimators=200, random_state=42,\n",
    "                          use_label_encoder=False, eval_metric=\"mlogloss\")\n",
    "\n",
    "# Patch __sklearn_tags__ to avoid AttributeError.\n",
    "if not hasattr(xgb_model, \"__sklearn_tags__\"):\n",
    "    xgb_model.__sklearn_tags__ = lambda: {\n",
    "        \"requires_positive_X\": False,\n",
    "        \"non_deterministic\": True,\n",
    "        \"stateless\": False,\n",
    "        \"binary_only\": False,\n",
    "        \"X_types\": [\"2darray\", \"string\", \"mixed\"],\n",
    "    }\n",
    "\n",
    "xgb_param_dist = {\n",
    "    'max_depth': [3, 5, 7],\n",
    "    'learning_rate': [0.01, 0.1, 0.2],\n",
    "    'gamma': [0, 1, 5],\n",
    "    'reg_lambda': [1, 5, 10]\n",
    "}\n",
    "\n",
    "xgb_random = RandomizedSearchCV(\n",
    "    xgb_model,\n",
    "    param_distributions=xgb_param_dist,\n",
    "    n_iter=10, cv=5,\n",
    "    scoring='accuracy', n_jobs=-1, random_state=42, verbose=1\n",
    ")\n",
    "xgb_random.fit(X_train, y_train)\n",
    "print(\"Best XGB Parameters:\", xgb_random.best_params_)\n",
    "\n",
    "# Retrieve the best estimators from tuning.\n",
    "rf_best = rf_random.best_estimator_\n",
    "xgb_best = xgb_random.best_estimator_\n",
    "\n",
    "# Build and Evaluate the Hybrid VotingClassifier\n",
    "hybrid_model = VotingClassifier(\n",
    "    estimators=[('rf', rf_best), ('xgb', xgb_best)],\n",
    "    voting='soft'\n",
    ")\n",
    "hybrid_model.fit(X_train, y_train)"
   ]
  },
  {
   "cell_type": "code",
   "execution_count": 5,
   "metadata": {},
   "outputs": [
    {
     "name": "stdout",
     "output_type": "stream",
     "text": [
      "✅ Hybrid Model Test Accuracy: 0.8680\n"
     ]
    },
    {
     "data": {
      "image/png": "[encoded data removed]",
      "text/plain": [
       "<Figure size 600x400 with 2 Axes>"
      ]
     },
     "metadata": {},
     "output_type": "display_data"
    }
   ],
   "source": [
    "# ===================== Model Evaluation =====================\n",
    "# Evaluate on the test set.\n",
    "y_preds = hybrid_model.predict(X_test)\n",
    "test_accuracy = accuracy_score(y_test, y_preds)\n",
    "print(f\"✅ Hybrid Model Test Accuracy: {test_accuracy:.4f}\")\n",
    "\n",
    "plt.figure(figsize=(6, 4))\n",
    "sns.heatmap(confusion_matrix(y_test, y_preds), annot=True, fmt='d', cmap='Blues')\n",
    "plt.title(\"Hybrid Model Confusion Matrix\")\n",
    "plt.xlabel(\"Predicted\")\n",
    "plt.ylabel(\"Actual\")\n",
    "plt.show()"
   ]
  },
  {
   "cell_type": "code",
   "execution_count": 6,
   "metadata": {},
   "outputs": [],
   "source": [
    "# ===================== Prediction Function =====================\n",
    "def predict_disease(patient_data=None):\n",
    "    if patient_data is None:\n",
    "        print(\"Error: No patient data provided\")\n",
    "        return\n",
    "    \n",
    "    try:\n",
    "        patient_df = pd.DataFrame([patient_data], columns=feature_columns)\n",
    "        # Encode categorical features as during training\n",
    "        for col in ['Smoking_History', 'PPE_Usage', 'Medication_Use',\n",
    "                    'Cough_Frequency', 'Breathlessness', 'Chest_Pain']:\n",
    "            patient_df[col] = label_encoder.transform([patient_df[col].iloc[0]])\n",
    "\n",
    "        # Use the ensemble model to predict\n",
    "        prediction = hybrid_model.predict(patient_df)\n",
    "        predicted_risk = prediction[0]\n",
    "\n",
    "        # Map numerical risk level to Low/Medium/High\n",
    "        risk_mapping = {0: \"Low\", 1: \"Medium\", 2: \"High\"}\n",
    "        risk_level = risk_mapping.get(predicted_risk, \"Unknown\")\n",
    "\n",
    "        # Determine predicted disease using the mapping if available\n",
    "        if disease_mapping is not None:\n",
    "            predicted_disease = disease_mapping.get(predicted_risk, risk_level)\n",
    "        else:\n",
    "            predicted_disease = risk_level\n",
    "\n",
    "        # Retrieve recommended precautionary measures\n",
    "        precautions = treatment_data[treatment_data[target_column] == predicted_risk][treatment_column].values[0]\n",
    "\n",
    "        result = {\n",
    "            \"Predicted Disease\": predicted_disease,\n",
    "            \"Risk Level\": risk_level,\n",
    "            \"Recommended Precautionary Measures\": precautions\n",
    "        }\n",
    "\n",
    "        print(\"\\nPrediction Results:\")\n",
    "        for key, value in result.items():\n",
    "            print(f\"{key}: {value}\")\n",
    "            \n",
    "    except Exception as e:\n",
    "        print(f\"Prediction failed: {str(e)}\")"
   ]
  },
  {
   "cell_type": "code",
   "execution_count": 7,
   "metadata": {},
   "outputs": [
    {
     "name": "stdout",
     "output_type": "stream",
     "text": [
      "Prediction for provided patient data:\n",
      "\n",
      "Prediction Results:\n",
      "Predicted Disease: Pneumoconiosis\n",
      "Risk Level: High\n",
      "Recommended Precautionary Measures: Enhance ventilation, Use respiratory protection, Medical monitoring\n",
      "\n",
      "Training Performance:\n",
      "Accuracy : 0.9860\n",
      "Precision: 0.9866\n",
      "Recall   : 0.9860\n",
      "F1-Score : 0.9861\n",
      "\n",
      "Testing Performance:\n",
      "Accuracy : 0.8680\n",
      "Precision: 0.8678\n",
      "Recall   : 0.8680\n",
      "F1-Score : 0.8677\n"
     ]
    }
   ],
   "source": [
    "# Define sample patient data\n",
    "sample_patient_data = {\n",
    "    'Age': 45,\n",
    "    'Years_in_Mining': 20,\n",
    "    'Smoking_History': 1,\n",
    "    'Cough_Frequency': 2,\n",
    "    'Breathlessness': 1,\n",
    "    'Chest_Pain': 0,\n",
    "    'Oxygen_Saturation (%)': 95.0,\n",
    "    'Heart_Rate (BPM)': 75.0,\n",
    "    'Body_Temperature (°C)': 37.0,\n",
    "    'Air_Quality_Index (AQI)': 150.0,\n",
    "    'PM2.5_Level (µg/m³)': 60.0,\n",
    "    'CO_Level (ppm)': 5.0,\n",
    "    'Temperature (°C)': 18.0,\n",
    "    'PPE_Usage': 1,\n",
    "    'Medication_Use': 0\n",
    "}\n",
    "\n",
    "# Test prediction with sample data\n",
    "print(\"Prediction for provided patient data:\")\n",
    "predict_disease(sample_patient_data)\n",
    "\n",
    "# ===================== Performance Metrics =====================\n",
    "train_preds = hybrid_model.predict(X_train)\n",
    "train_accuracy = accuracy_score(y_train, train_preds)\n",
    "train_precision = precision_score(y_train, train_preds, average='weighted', zero_division=0)\n",
    "train_recall = recall_score(y_train, train_preds, average='weighted', zero_division=0)\n",
    "train_f1 = f1_score(y_train, train_preds, average='weighted', zero_division=0)\n",
    "\n",
    "test_precision = precision_score(y_test, y_preds, average='weighted', zero_division=0)\n",
    "test_recall = recall_score(y_test, y_preds, average='weighted', zero_division=0)\n",
    "test_f1 = f1_score(y_test, y_preds, average='weighted', zero_division=0)\n",
    "\n",
    "print(\"\\nTraining Performance:\")\n",
    "print(f\"Accuracy : {train_accuracy:.4f}\")\n",
    "print(f\"Precision: {train_precision:.4f}\")\n",
    "print(f\"Recall   : {train_recall:.4f}\")\n",
    "print(f\"F1-Score : {train_f1:.4f}\")\n",
    "\n",
    "print(\"\\nTesting Performance:\")\n",
    "print(f\"Accuracy : {test_accuracy:.4f}\")\n",
    "print(f\"Precision: {test_precision:.4f}\")\n",
    "print(f\"Recall   : {test_recall:.4f}\")\n",
    "print(f\"F1-Score : {test_f1:.4f}\")"
   ]
  },
  {
   "cell_type": "code",
   "execution_count": 8,
   "metadata": {},
   "outputs": [
    {
     "data": {
      "text/plain": [
       "['model.pkl']"
      ]
     },
     "execution_count": 8,
     "metadata": {},
     "output_type": "execute_result"
    }
   ],
   "source": [
    "import joblib\n",
    "joblib.dump(hybrid_model, 'model.pkl')"
   ]
  },
  {
   "cell_type": "code",
   "execution_count": 9,
   "metadata": {},
   "outputs": [
    {
     "name": "stdout",
     "output_type": "stream",
     "text": [
      "Models saved successfully!\n"
     ]
    }
   ],
   "source": [
    "import os\n",
    "\n",
    "# Create models directory if it doesn't exist\n",
    "os.makedirs('models', exist_ok=True)\n",
    "\n",
    "# Save the models\n",
    "joblib.dump(hybrid_model, 'models/hybrid_model.pkl')\n",
    "joblib.dump(label_encoder, 'models/label_encoder.pkl')\n",
    "print(\"Models saved successfully!\")"
   ]
  },
  {
   "cell_type": "code",
   "execution_count": 10,
   "metadata": {},
   "outputs": [
    {
     "name": "stdout",
     "output_type": "stream",
     "text": [
      "Models saved successfully with scikit-learn version: 1.3.0\n"
     ]
    }
   ],
   "source": [
    "\n",
    "joblib.dump(hybrid_model, 'models/hybrid_model.pkl')\n",
    "joblib.dump(label_encoder, 'models/label_encoder.pkl')\n",
    "\n",
    "print(\"Models saved successfully with scikit-learn version:\", sklearn.__version__)"
   ]
  },
  {
   "cell_type": "code",
   "execution_count": 11,
   "metadata": {},
   "outputs": [
    {
     "name": "stdout",
     "output_type": "stream",
     "text": [
      "Model saved successfully!\n"
     ]
    }
   ],
   "source": [
    "# Create simple RandomForest model without any complex dependencies\n",
    "from sklearn.ensemble import RandomForestClassifier\n",
    "import joblib\n",
    "\n",
    "# Create and train the model\n",
    "rf_model = RandomForestClassifier(\n",
    "    n_estimators=100, \n",
    "    max_depth=10,\n",
    "    random_state=42\n",
    ")\n",
    "rf_model.fit(X_train, y_train)\n",
    "\n",
    "# Save the model\n",
    "import os\n",
    "os.makedirs('models', exist_ok=True)\n",
    "joblib.dump(rf_model, 'models/hybrid_model.pkl')\n",
    "print(\"Model saved successfully!\")"
   ]
  },
  {
   "cell_type": "code",
   "execution_count": 12,
   "metadata": {},
   "outputs": [
    {
     "name": "stdout",
     "output_type": "stream",
     "text": [
      "Current scikit-learn version: 1.3.0\n",
      "Model saved successfully!\n",
      "Model type: <class 'sklearn.ensemble._forest.RandomForestClassifier'>\n",
      "Model loaded successfully!\n",
      "Model saved successfully!\n",
      "Model type: <class 'sklearn.ensemble._forest.RandomForestClassifier'>\n",
      "Model loaded successfully!\n"
     ]
    }
   ],
   "source": [
    "print(f\"Current scikit-learn version: {sklearn.__version__}\")\n",
    "\n",
    "# Create and train a fresh model with current version\n",
    "rf_model = RandomForestClassifier(\n",
    "    n_estimators=100,\n",
    "    max_depth=10,\n",
    "    random_state=42\n",
    ")\n",
    "\n",
    "# Fit the model\n",
    "rf_model.fit(X_train, y_train)\n",
    "\n",
    "# Clear the models directory and save new model\n",
    "import shutil\n",
    "import os\n",
    "\n",
    "if os.path.exists('models'):\n",
    "    shutil.rmtree('models')\n",
    "os.makedirs('models')\n",
    "\n",
    "# Save the model with current version\n",
    "joblib.dump(rf_model, 'models/hybrid_model.pkl')\n",
    "print(\"Model saved successfully!\")\n",
    "\n",
    "# Verify model load\n",
    "test_model = joblib.load('models/hybrid_model.pkl')\n",
    "print(f\"Model type: {type(test_model)}\")\n",
    "print(\"Model loaded successfully!\")"
   ]
  }
 ],
 "metadata": {
  "colab": {
   "authorship_tag": "ABX9TyN/cRiaYZXlgq9OvkjGjCZg",
   "provenance": []
  },
  "kernelspec": {
   "display_name": "Python 3",
   "language": "python",
   "name": "python3"
  },
  "language_info": {
   "codemirror_mode": {
    "name": "ipython",
    "version": 3
   },
   "file_extension": ".py",
   "mimetype": "text/x-python",
   "name": "python",
   "nbconvert_exporter": "python",
   "pygments_lexer": "ipython3",
   "version": "3.10.0"
  }
 },
 "nbformat": 4,
 "nbformat_minor": 0
}
